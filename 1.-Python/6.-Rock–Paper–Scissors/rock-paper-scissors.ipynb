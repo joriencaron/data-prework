{
 "cells": [
  {
   "cell_type": "markdown",
   "metadata": {},
   "source": [
    "<img src=\"https://bit.ly/2VnXWr2\" width=\"100\" align=\"left\">"
   ]
  },
  {
   "cell_type": "markdown",
   "metadata": {},
   "source": [
    "# Rock, Paper & Scissors\n",
    "\n",
    "Let's play the famous game against our computer. You can check the rules [here](https://en.wikipedia.org/wiki/Rock%E2%80%93paper%E2%80%93scissors). \n",
    "\n",
    "## Task\n",
    "Create a program that imitates the playability of the well known game of rock, paper, scissors. Follow the guidelines provided.\n",
    "\n",
    "## Tools\n",
    "1. Loop: **for/while**\n",
    "2. Functions: **input(), print()...**\n",
    "3. Conditional statements: **if, elif, else**\n",
    "4. Definition of functions. Modular programming\n",
    "5. Import modules\n",
    "\n",
    "**To solve this challenge, the use of functions is recommended.**\n",
    "\n",
    "#### 1. Import the choice function of the random module."
   ]
  },
  {
   "cell_type": "code",
   "execution_count": null,
   "metadata": {},
   "outputs": [],
   "source": [
    ">>> import random"
   ]
  },
  {
   "cell_type": "markdown",
   "metadata": {},
   "source": [
    "#### 2. Create a list that includes the 3 possible gesture options of the game: 'rock', 'paper' or 'scissors'. Store the list in a variable called `gestures`."
   ]
  },
  {
   "cell_type": "code",
   "execution_count": null,
   "metadata": {},
   "outputs": [],
   "source": [
    ">>> gestures = [\"Rock\", \"Paper\", \"Scissors\"]"
   ]
  },
  {
   "cell_type": "markdown",
   "metadata": {},
   "source": [
    "#### 3. Create a variable called `n_rounds` to store the maximum number of rounds to play in a game. \n",
    "Remember that the number of rounds must be odd: 1, 3, 5, ..."
   ]
  },
  {
   "cell_type": "code",
   "execution_count": null,
   "metadata": {},
   "outputs": [],
   "source": [
    ">>> n_rounds = 3"
   ]
  },
  {
   "cell_type": "markdown",
   "metadata": {},
   "source": [
    "#### 4. Create a variable called `rounds_to_win` to store the number of rounds that a player must win to win the game.\n",
    "**Hint**: the value stored in `rounds_to_win` depends on the value of `n_rounds`. "
   ]
  },
  {
   "cell_type": "code",
   "execution_count": null,
   "metadata": {},
   "outputs": [],
   "source": [
    ">>> rounds_to_win = 2"
   ]
  },
  {
   "cell_type": "markdown",
   "metadata": {},
   "source": [
    "#### 5. Create two variables to store the number of rounds that the computer and the player have won. Call these variables `cpu_score` and `player_score`."
   ]
  },
  {
   "cell_type": "code",
   "execution_count": null,
   "metadata": {},
   "outputs": [],
   "source": [
    ">>> cpu_score = 0\n",
    ">>> player_score = 0"
   ]
  },
  {
   "cell_type": "markdown",
   "metadata": {},
   "source": [
    "#### 6. Define a function that randomly returns one of the 3 gesture options.\n",
    "You will use this function to simulate the gesture choice of the computer. "
   ]
  },
  {
   "cell_type": "code",
   "execution_count": null,
   "metadata": {},
   "outputs": [],
   "source": [
    ">>> def game_played(gestures):\n",
    "...     return random.choice(gestures)"
   ]
  },
  {
   "cell_type": "markdown",
   "metadata": {},
   "source": [
    "#### 7. Define a function that asks the player which is the gesture he or she wants to show: 'rock', 'paper' or 'scissors'.\n",
    "The player should only be allowed to choose one of the 3 gesture options. If the player's choice is not rock, paper or scissors, keep asking until it is."
   ]
  },
  {
   "cell_type": "code",
   "execution_count": null,
   "metadata": {},
   "outputs": [],
   "source": [
    ">>> def game_choice():\n",
    "...     choice = \"\"\n",
    "...     while choice == \"\":\n",
    "...             print (\"Choose an option:\")\n",
    "...             a = input()\n",
    "...             if a in gestures:\n",
    "...                     choice = a\n",
    "...     return choice"
   ]
  },
  {
   "cell_type": "markdown",
   "metadata": {},
   "source": [
    "#### 8. Define a function that checks who won a round. \n",
    "The function should return 0 if there is a tie, 1 if the computer wins and 2 if the player wins."
   ]
  },
  {
   "cell_type": "code",
   "execution_count": null,
   "metadata": {},
   "outputs": [],
   "source": [
    ">>> def game(gestures):\n",
    "...     computer_choice = game_played(gestures)\n",
    "...     player_choice = game_choice()\n",
    "...     result = \"tie\"\n",
    "...     if computer_choice == player_choice:\n",
    "...             result = \"Tie\"\n",
    "...     elif computer_choice == \"Rock\":\n",
    "...             if player_choice == \"Paper\":\n",
    "...                     result = \"player\"\n",
    "...             else:\n",
    "...                     result = \"computer\"\n",
    "...     elif computer_choice == \"Paper\":\n",
    "...             if player_choice == \"Scissors\":\n",
    "...                     result = \"player\"\n",
    "...             else:\n",
    "...                     result = \"computer\"\n",
    "...     else:\n",
    "...             if player_choice == \"Rock\":\n",
    "...                     result = \"player\"\n",
    "...             else:\n",
    "...                     result = \"computer\"\n",
    "...     return [result, computer_choice, player_choice]"
   ]
  },
  {
   "cell_type": "markdown",
   "metadata": {},
   "source": [
    "#### 9. Define a function that prints the choice of the computer, the choice of the player and a message that announces who won the current round. \n",
    "You should also use this function to update the variables that count the number of rounds that the computer and the player have won. The score of the winner increases by one point. If there is a tie, the score does not increase."
   ]
  },
  {
   "cell_type": "code",
   "execution_count": null,
   "metadata": {},
   "outputs": [],
   "source": [
    ">>> def complete_game_played(gestures):\n",
    "...     number_games = 0\n",
    "...     results = []\n",
    "...     player_score = 0\n",
    "...     cpu_score = 0\n",
    "...     while (player_score < 2) and (cpu_score < 2):\n",
    "...             number_games += 1\n",
    "...             start_game = game(gestures)\n",
    "...             results.append(start_game[0])\n",
    "...             print (\"Game number {number_games}: Computer:{choice_computer} - Player:{choice_player}. Accumulated results: {acumulated_results}\".format(number_games = number_games, choice_computer = start_game[1], choice_player = start_game[2], acumulated_results = results))\n",
    "...             if start_game[0] == \"computer\":\n",
    "...                     cpu_score += 1\n",
    "...             elif start_game[0] == \"player\":\n",
    "...                     player_score += 1\n",
    "...     if player_score > cpu_score:\n",
    "...             winner = \"player\"\n",
    "...     elif player_score == cpu_score:\n",
    "...             winner = \"no winner\"\n",
    "...     else:\n",
    "...             winner = \"computer\"\n",
    "...     return \"The game is finished, {winner} wins!\".format(winner = winner) "
   ]
  },
  {
   "cell_type": "markdown",
   "metadata": {},
   "source": [
    "#### 10. Now it's time to code the execution of the game using the functions and variables you defined above. \n",
    "\n",
    "First, create a loop structure that repeats while no player reaches the minimum score necessary to win and the number of rounds is less than the maximum number of rounds to play in a game.  \n",
    "\n",
    "Inside the loop, use the functions and variables above to create the execution of a round: ask for the player's choice, generate the random choice of the computer, show the round results, update the scores, etc. "
   ]
  },
  {
   "cell_type": "code",
   "execution_count": null,
   "metadata": {},
   "outputs": [],
   "source": [
    ">>> print(complete_game_played(gestures))\n",
    "Choose an option:\n",
    "Paper\n",
    "Game number 1: Computer:Rock - Player:Paper. Accumulated results: ['player']\n",
    "Choose an option:\n",
    "Rock\n",
    "Game number 2: Computer:Paper - Player:Rock. Accumulated results: ['player', 'computer']\n",
    "Choose an option:\n",
    "Scissors\n",
    "Game number 3: Computer:Paper - Player:Scissors. Accumulated results: ['player', 'computer', 'player']"
   ]
  },
  {
   "cell_type": "markdown",
   "metadata": {},
   "source": [
    "#### 11. Print the winner of the game based on who won more rounds.\n",
    "Remember that the game might be tied. "
   ]
  },
  {
   "cell_type": "code",
   "execution_count": null,
   "metadata": {},
   "outputs": [],
   "source": [
    "The game is finished, player wins!"
   ]
  },
  {
   "cell_type": "markdown",
   "metadata": {},
   "source": [
    "# Bonus: Rock, Paper, Scissors, Lizard & Spock\n",
    "![](images/rpsls.jpg)\n",
    "\n",
    "In this challenge, you need to improve the previous game by adding two new options. To know more about the rules of the improved version of rock, paper, scissors, check this [link](http://www.samkass.com/theories/RPSSL.html). \n",
    "\n",
    "In addition, you will also need to improve how the game interacts with the player: the number of rounds to play, which must be an odd number, will be requested to the user until a valid number is entered. Define a new function to make that request.\n",
    "\n",
    "**Hint**: Try to reuse the code that you already coded in the previous challenge. If your code is efficient, this bonus will only consist of simple modifications to the original game."
   ]
  },
  {
   "cell_type": "code",
   "execution_count": null,
   "metadata": {},
   "outputs": [],
   "source": [
    ">>> import random\n",
    ">>> gestures = [\"Rock\", \"Paper\", \"Scissors\", \"Lizard\", \"Spock\"]\n",
    ">>> max_games = 3\n",
    ">>> n_rounds = 3\n",
    ">>> must_win = 2\n",
    ">>> def game_played(gestures):\n",
    "...     return random.choice(gestures)\n",
    "... \n",
    ">>> def game_choice():\n",
    "...     choice = \"\"\n",
    "...     while choice == \"\":\n",
    "...             print (\"Choose an option:\")\n",
    "...             a = input()\n",
    "...             if a in gestures:\n",
    "...                     choice = a\n",
    "...     return choice\n",
    "\n",
    ">>> def game(gestures):\n",
    "...     computer_choice = game_played(gestures)\n",
    "...     player_choice = game_choice()\n",
    "...     result = \"tie\"\n",
    "...     if computer_choice == player_choice:\n",
    "...             result = \"Tie\"\n",
    "...     elif computer_choice == \"Rock\":\n",
    "...             if player_choice == \"Paper\" or player_choice == \"Spock\":\n",
    "...                     result = \"player\"\n",
    "...             else:\n",
    "...                     result = \"computer\"\n",
    "...     elif computer_choice == \"Paper\":\n",
    "...             if player_choice == \"Scissors\" or player_choice == \"Lizard\":\n",
    "...                     result = \"player\"\n",
    "...             else:\n",
    "...                     result = \"computer\"\n",
    "...     elif computer_choice == \"Scissors\":\n",
    "...             if player_choice == \"Stone\" or player_choice == \"Spock\":\n",
    "...                     result = \"player\"\n",
    "...             else:\n",
    "...                     result = \"computer\"\n",
    "...     elif computer_choice == \"Lizard\":\n",
    "...             if player_choice == \"Stone\" or player_choice == \"Scissors\":\n",
    "...                     result = \"player\"\n",
    "...             else:\n",
    "...                     result = \"computer\"\n",
    "...     else:\n",
    "...             if player_choice == \"Lizard\" or player_choice == \"Paper\":\n",
    "...                     result = \"player\"\n",
    "...             else:\n",
    "...                     result = \"computer\"\n",
    "...     return [result, computer_choice, player_choice]\n",
    "\n",
    ">>> def complete_game_played(gestures):\n",
    "...     number_games = 0\n",
    "...     results = []\n",
    "...     player_score = 0\n",
    "...     cpu_score = 0\n",
    "...     while (player_score < 2) and (cpu_score < 2):\n",
    "...             number_games += 1\n",
    "...             start_game = game(gestures)\n",
    "...             results.append(start_game[0])\n",
    "...             print (\"Game number {number_games}: Computer:{choice_computer} - Player:{choice_player}. Accumulated results: {acumulated_results}\".format(number_games = number_games, choice_computer = start_game[1], choice_player = start_game[2], acumulated_results = results))\n",
    "...             if start_game[0] == \"computer\":\n",
    "...                     cpu_score += 1\n",
    "...             elif start_game[0] == \"player\":\n",
    "...                     player_score += 1\n",
    "...     if player_score > cpu_score:\n",
    "...             winner = \"player\"\n",
    "...     elif player_score == cpu_score:\n",
    "...             winner = \"no winner\"\n",
    "...     else:\n",
    "...             winner = \"computer\"\n",
    "...     return \"The game is finished, {winner} wins!\".format(winner = winner)\n",
    "\n",
    ">>> print(complete_game_played(gestures))\n",
    "Choose an option:\n",
    "Lizard\n",
    "Game number 1: Computer:Paper - Player:Lizard. Accumulated results: ['player']\n",
    "Choose an option:\n",
    "Spock\n",
    "Game number 2: Computer:Rock - Player:Spock. Accumulated results: ['player', 'player']\n",
    "The game is finished, player wins!\n"
   ]
  }
 ],
 "metadata": {
  "kernelspec": {
   "display_name": "Python 3 (ipykernel)",
   "language": "python",
   "name": "python3"
  },
  "language_info": {
   "codemirror_mode": {
    "name": "ipython",
    "version": 3
   },
   "file_extension": ".py",
   "mimetype": "text/x-python",
   "name": "python",
   "nbconvert_exporter": "python",
   "pygments_lexer": "ipython3",
   "version": "3.8.2"
  }
 },
 "nbformat": 4,
 "nbformat_minor": 2
}
