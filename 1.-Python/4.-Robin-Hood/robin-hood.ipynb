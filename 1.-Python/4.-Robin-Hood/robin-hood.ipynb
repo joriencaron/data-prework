{
 "cells": [
  {
   "cell_type": "markdown",
   "metadata": {},
   "source": [
    "<img src=\"https://bit.ly/2VnXWr2\" width=\"100\" align=\"left\"/>"
   ]
  },
  {
   "cell_type": "markdown",
   "metadata": {},
   "source": [
    "# Robin Hood\n",
    "Robin Hood has entered a competition to win the archery contest in Sherwood. With his bow and arrows, he needs to shoot on a target and try to hit as close as possible to the center.\n",
    "\n",
    "![](images/arrows.jpg)\n",
    "\n",
    "## Context\n",
    "In this challenge, the landing position of arrows shot by archers in the competition will be represented using 2-dimensional coordinates. \n",
    "\n",
    "In the 2-dimensional space, a point can be defined by a pair of values that correspond to the horizontal coordinate (x) and the vertical coordinate (y). For example, in our case, an arrow that hits the center of the archery target will land in position (0, 0) on the coordinate axes. \n",
    "\n",
    "The space can be divided into 4 zones (quadrants): Q1, Q2, Q3, Q4. If a point is in Q1, both its x coordinate and y coordinate are positive. Any point with a null x or y coordinate is considered to not belong to any quadrant. \n",
    "\n",
    "If you want to know more about the cartesian coordinate system, you can check this [link](https://en.wikipedia.org/wiki/Cartesian_coordinate_system). \n",
    "\n",
    "## Tools\n",
    "You don't necessarily need to use all the tools. Maybe you opt to use some of them or completely different ones, they are given to help you shape the exercise. Programming exercises can be solved in many different ways.\n",
    "* Data structures: **lists, sets, tuples**\n",
    "* Conditional statements: **if-elif-else**\n",
    "* Loop: **while/for**\n",
    "* Minimum (optional sorting)\n",
    "\n",
    "## Tasks\n",
    "Robin Hood has hit the following points:"
   ]
  },
  {
   "cell_type": "code",
   "execution_count": null,
   "metadata": {},
   "outputs": [],
   "source": [
    "points = [(4, 5), (-0, 2), (4, 7), (1, -3), (3, -2), (4, 5), (3, 2), (5, 7), (-5, 7), (2, 2), (-4, 5), (0, -2),\n",
    "          (-4, 7), (-1, 3), (-3, 2), (-4, -5), (-3, 2), (5, 7), (5, 7), (2, 2), (9, 9), (-8, -9)]"
   ]
  },
  {
   "cell_type": "markdown",
   "metadata": {},
   "source": [
    "#### 1. Robin Hood is famous for hitting an arrow with another arrow. Find the coordinates of the points where an arrow hits another arrow."
   ]
  },
  {
   "cell_type": "code",
   "execution_count": null,
   "metadata": {},
   "outputs": [],
   "source": [
    ">>> for point in range(len(points)):\n",
    "...     if points[point] in points[point+1:]:\n",
    "...             arrow_in_arrow.append(points[point])\n",
    "... \n",
    ">>> print(set(arrow_in_arrow))\n",
    "{(-3, 2), (4, 5), (5, 7), (2, 2)}"
   ]
  },
  {
   "cell_type": "markdown",
   "metadata": {},
   "source": [
    "#### 2. Calculate how many arrows have fallen in each quadrant. \n",
    "**Note**: the arrows that fall in the axis (x=0 or y=0) don't belong to any quadrant."
   ]
  },
  {
   "cell_type": "code",
   "execution_count": null,
   "metadata": {},
   "outputs": [],
   "source": [
    ">>> q1 = 0\n",
    ">>> q2 = 0\n",
    ">>> q3 = 0\n",
    ">>> q4 = 0\n",
    ">>> for point in points:\n",
    "...     if point[0] > 0 and point[1] > 0:\n",
    "...             q1 += 1\n",
    "...     if point[0] < 0 and point[1] > 0:\n",
    "...             q2 += 1\n",
    "...     if point[0] < 0 and point[1] > 0:\n",
    "...             q3 += 1\n",
    "...     if point[0] > 0 and point[1] < 0:\n",
    "...             q4 += 1\n",
    ">>> print(q1, \"arrows have fallen in Q1,\", q2, \"arrows have fallen in Q2,\", q3, \"arrows have fallen in Q3 and\", q4, \"arrows have fallen in Q4\")\n",
    "10 arrows have fallen in Q1, 6 arrows have fallen in Q2, 6 arrows have fallen in Q3 and 2 arrows have fallen in Q4"
   ]
  },
  {
   "cell_type": "markdown",
   "metadata": {},
   "source": [
    "#### 3. Find the point closest to the center. Calculate its distance to the center. \n",
    "Take into account that there might be more than one point at the minimum distance to the center.\n",
    "\n",
    "**Hint**: Use the Euclidean distance. You can find more information about it [here](https://en.wikipedia.org/wiki/Euclidean_distance).  \n",
    "**Hint**: Defining a function that calculates the distance to the center can help."
   ]
  },
  {
   "cell_type": "code",
   "execution_count": null,
   "metadata": {},
   "outputs": [],
   "source": [
    ">>> def distance_centre(point):\n",
    "...     x = point[0]\n",
    "...     y = point[1]\n",
    "...     return (x**2 + y**2)**0.5\n",
    "... \n",
    ">>> closest_point = [0,0]\n",
    ">>> closest_distance = 1000\n",
    ">>> for point in points:\n",
    "...     if distance_centre(point) < closest_distance:\n",
    "...             closest_distance = distance_centre(point)\n",
    "...             closest_point = point\n",
    "\n",
    ">>> print(\"The point closest to the centre is\", closest_point, \"its distance to the centre is\", closest_distance)\n",
    "The point closest to the centre is (0, 2) its distance to the centre is 2.0"
   ]
  },
  {
   "cell_type": "markdown",
   "metadata": {},
   "source": [
    "#### 4. If the archery target has a radius of 9, calculate the number of arrows that won't hit the target. \n",
    "**Hint**: Use the function created in step 3. "
   ]
  },
  {
   "cell_type": "code",
   "execution_count": null,
   "metadata": {},
   "outputs": [],
   "source": [
    ">>> not_in_radius = []\n",
    ">>> for point in points:\n",
    "...     if point[0] >= 9 or point[1] >= 9:\n",
    "...             not_in_radius.append(point)\n",
    "...     elif point[0] <= -9 or point[1] <= -9:\n",
    "...             not_in_radius.append(point)\n",
    ">>> missed_arrows = len(not_in_radius)\n",
    ">>> print(missed_arrows, \"arrows won't hit the target\")\n",
    "2 arrows won't hit the target"
   ]
  }
 ],
 "metadata": {
  "kernelspec": {
   "display_name": "Python 3 (ipykernel)",
   "language": "python",
   "name": "python3"
  },
  "language_info": {
   "codemirror_mode": {
    "name": "ipython",
    "version": 3
   },
   "file_extension": ".py",
   "mimetype": "text/x-python",
   "name": "python",
   "nbconvert_exporter": "python",
   "pygments_lexer": "ipython3",
   "version": "3.8.2"
  }
 },
 "nbformat": 4,
 "nbformat_minor": 2
}
